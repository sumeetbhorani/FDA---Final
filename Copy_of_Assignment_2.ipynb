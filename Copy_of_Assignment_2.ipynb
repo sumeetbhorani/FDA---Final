{
  "nbformat": 4,
  "nbformat_minor": 0,
  "metadata": {
    "colab": {
      "provenance": []
    },
    "kernelspec": {
      "name": "python3",
      "display_name": "Python 3"
    },
    "language_info": {
      "name": "python"
    }
  },
  "cells": [
    {
      "cell_type": "code",
      "execution_count": null,
      "metadata": {
        "id": "G1xNcHG-chXO"
      },
      "outputs": [],
      "source": [
        "# pandas for Data Preprocess\n",
        "import pandas as pd\n",
        "import numpy as np\n",
        "import matplotlib.pyplot as plt\n",
        "import seaborn as sns\n",
        "from sklearn.model_selection import train_test_split\n",
        "from sklearn.preprocessing import LabelEncoder, StandardScaler\n",
        "from imblearn.over_sampling import SMOTE\n",
        "from sklearn.linear_model import LogisticRegression\n",
        "from sklearn.metrics import accuracy_score, precision_score, recall_score, f1_score, roc_auc_score, confusion_matrix"
      ]
    },
    {
      "cell_type": "code",
      "source": [
        "# Load Dataset\n",
        "df=pd.read_csv('/content/drive/MyDrive/FDA Data/insurance_claims.csv')"
      ],
      "metadata": {
        "id": "tFG4OHL7dVZh"
      },
      "execution_count": null,
      "outputs": []
    },
    {
      "cell_type": "code",
      "source": [
        "#Data Preprocessing & Exploratory Data Analysis\n",
        "df.shape\n",
        "df.head()"
      ],
      "metadata": {
        "colab": {
          "base_uri": "https://localhost:8080/",
          "height": 255
        },
        "id": "ZeSD55HTjg0R",
        "outputId": "183fbeda-36ee-4790-e494-455e9163ba78"
      },
      "execution_count": null,
      "outputs": [
        {
          "output_type": "execute_result",
          "data": {
            "text/plain": [
              "  PolicyholderNumber FirstPartyVehicleNumber PolicyholderOccupation  \\\n",
              "0           PH006844                  V89073                 Lawyer   \n",
              "1           PH004230                  V64262                Teacher   \n",
              "2           PH004845                  V91142               Business   \n",
              "3           PH004688                  V37222               Engineer   \n",
              "4           PH006863                  V57210               Business   \n",
              "\n",
              "  FirstPolicySubscriptionDate FirstPartyVehicleType  PolicyholderPostCode  \\\n",
              "0                  2014-02-16            Motorcycle                 75165   \n",
              "1                  2011-09-14                   Car                 45809   \n",
              "2                  2015-10-11                 Truck                 42165   \n",
              "3                  2016-04-12                   Car                 82232   \n",
              "4                  2012-06-27                   SUV                 85642   \n",
              "\n",
              "   PolicyWasSubscribedOnInternet  NumberOfPoliciesOfPolicyholder  \\\n",
              "0                              0                               2   \n",
              "1                              1                               1   \n",
              "2                              0                               1   \n",
              "3                              0                               1   \n",
              "4                              0                               1   \n",
              "\n",
              "   FpVehicleAgeMonths  PolicyHolderAge  ...  ClaimInvolvedCovers  \\\n",
              "0                  76               31  ...            Liability   \n",
              "1                  97               67  ...            Collision   \n",
              "2                 176               76  ...        Comprehensive   \n",
              "3                 151               71  ...            Liability   \n",
              "4                  81               28  ...            Liability   \n",
              "\n",
              "  DamageImportance ConnectionBetweenParties LossPostCode EasinessToStage  \\\n",
              "0                5                       No        81328        0.652447   \n",
              "1                8                       No        88724        0.676261   \n",
              "2                1                       No        68441        0.851770   \n",
              "3                9                       No        44767        0.926641   \n",
              "4                8                       No        46852        0.353562   \n",
              "\n",
              "  ClaimWithoutIdentifiedThirdParty   ClaimAmount  LossHour  \\\n",
              "0                                0  37246.774861        17   \n",
              "1                                0  32925.571674        19   \n",
              "2                                0   5817.983955        22   \n",
              "3                                0  48698.053138        22   \n",
              "4                                0  38666.693932         4   \n",
              "\n",
              "  NumberOfBodilyInjuries  Fraud  \n",
              "0                      0    0.0  \n",
              "1                      1    0.0  \n",
              "2                      0    0.0  \n",
              "3                      0    0.0  \n",
              "4                      0    0.0  \n",
              "\n",
              "[5 rows x 26 columns]"
            ],
            "text/html": [
              "\n",
              "  <div id=\"df-2c83cfd0-dc8d-4a84-b8f4-b898b58b88e3\" class=\"colab-df-container\">\n",
              "    <div>\n",
              "<style scoped>\n",
              "    .dataframe tbody tr th:only-of-type {\n",
              "        vertical-align: middle;\n",
              "    }\n",
              "\n",
              "    .dataframe tbody tr th {\n",
              "        vertical-align: top;\n",
              "    }\n",
              "\n",
              "    .dataframe thead th {\n",
              "        text-align: right;\n",
              "    }\n",
              "</style>\n",
              "<table border=\"1\" class=\"dataframe\">\n",
              "  <thead>\n",
              "    <tr style=\"text-align: right;\">\n",
              "      <th></th>\n",
              "      <th>PolicyholderNumber</th>\n",
              "      <th>FirstPartyVehicleNumber</th>\n",
              "      <th>PolicyholderOccupation</th>\n",
              "      <th>FirstPolicySubscriptionDate</th>\n",
              "      <th>FirstPartyVehicleType</th>\n",
              "      <th>PolicyholderPostCode</th>\n",
              "      <th>PolicyWasSubscribedOnInternet</th>\n",
              "      <th>NumberOfPoliciesOfPolicyholder</th>\n",
              "      <th>FpVehicleAgeMonths</th>\n",
              "      <th>PolicyHolderAge</th>\n",
              "      <th>...</th>\n",
              "      <th>ClaimInvolvedCovers</th>\n",
              "      <th>DamageImportance</th>\n",
              "      <th>ConnectionBetweenParties</th>\n",
              "      <th>LossPostCode</th>\n",
              "      <th>EasinessToStage</th>\n",
              "      <th>ClaimWithoutIdentifiedThirdParty</th>\n",
              "      <th>ClaimAmount</th>\n",
              "      <th>LossHour</th>\n",
              "      <th>NumberOfBodilyInjuries</th>\n",
              "      <th>Fraud</th>\n",
              "    </tr>\n",
              "  </thead>\n",
              "  <tbody>\n",
              "    <tr>\n",
              "      <th>0</th>\n",
              "      <td>PH006844</td>\n",
              "      <td>V89073</td>\n",
              "      <td>Lawyer</td>\n",
              "      <td>2014-02-16</td>\n",
              "      <td>Motorcycle</td>\n",
              "      <td>75165</td>\n",
              "      <td>0</td>\n",
              "      <td>2</td>\n",
              "      <td>76</td>\n",
              "      <td>31</td>\n",
              "      <td>...</td>\n",
              "      <td>Liability</td>\n",
              "      <td>5</td>\n",
              "      <td>No</td>\n",
              "      <td>81328</td>\n",
              "      <td>0.652447</td>\n",
              "      <td>0</td>\n",
              "      <td>37246.774861</td>\n",
              "      <td>17</td>\n",
              "      <td>0</td>\n",
              "      <td>0.0</td>\n",
              "    </tr>\n",
              "    <tr>\n",
              "      <th>1</th>\n",
              "      <td>PH004230</td>\n",
              "      <td>V64262</td>\n",
              "      <td>Teacher</td>\n",
              "      <td>2011-09-14</td>\n",
              "      <td>Car</td>\n",
              "      <td>45809</td>\n",
              "      <td>1</td>\n",
              "      <td>1</td>\n",
              "      <td>97</td>\n",
              "      <td>67</td>\n",
              "      <td>...</td>\n",
              "      <td>Collision</td>\n",
              "      <td>8</td>\n",
              "      <td>No</td>\n",
              "      <td>88724</td>\n",
              "      <td>0.676261</td>\n",
              "      <td>0</td>\n",
              "      <td>32925.571674</td>\n",
              "      <td>19</td>\n",
              "      <td>1</td>\n",
              "      <td>0.0</td>\n",
              "    </tr>\n",
              "    <tr>\n",
              "      <th>2</th>\n",
              "      <td>PH004845</td>\n",
              "      <td>V91142</td>\n",
              "      <td>Business</td>\n",
              "      <td>2015-10-11</td>\n",
              "      <td>Truck</td>\n",
              "      <td>42165</td>\n",
              "      <td>0</td>\n",
              "      <td>1</td>\n",
              "      <td>176</td>\n",
              "      <td>76</td>\n",
              "      <td>...</td>\n",
              "      <td>Comprehensive</td>\n",
              "      <td>1</td>\n",
              "      <td>No</td>\n",
              "      <td>68441</td>\n",
              "      <td>0.851770</td>\n",
              "      <td>0</td>\n",
              "      <td>5817.983955</td>\n",
              "      <td>22</td>\n",
              "      <td>0</td>\n",
              "      <td>0.0</td>\n",
              "    </tr>\n",
              "    <tr>\n",
              "      <th>3</th>\n",
              "      <td>PH004688</td>\n",
              "      <td>V37222</td>\n",
              "      <td>Engineer</td>\n",
              "      <td>2016-04-12</td>\n",
              "      <td>Car</td>\n",
              "      <td>82232</td>\n",
              "      <td>0</td>\n",
              "      <td>1</td>\n",
              "      <td>151</td>\n",
              "      <td>71</td>\n",
              "      <td>...</td>\n",
              "      <td>Liability</td>\n",
              "      <td>9</td>\n",
              "      <td>No</td>\n",
              "      <td>44767</td>\n",
              "      <td>0.926641</td>\n",
              "      <td>0</td>\n",
              "      <td>48698.053138</td>\n",
              "      <td>22</td>\n",
              "      <td>0</td>\n",
              "      <td>0.0</td>\n",
              "    </tr>\n",
              "    <tr>\n",
              "      <th>4</th>\n",
              "      <td>PH006863</td>\n",
              "      <td>V57210</td>\n",
              "      <td>Business</td>\n",
              "      <td>2012-06-27</td>\n",
              "      <td>SUV</td>\n",
              "      <td>85642</td>\n",
              "      <td>0</td>\n",
              "      <td>1</td>\n",
              "      <td>81</td>\n",
              "      <td>28</td>\n",
              "      <td>...</td>\n",
              "      <td>Liability</td>\n",
              "      <td>8</td>\n",
              "      <td>No</td>\n",
              "      <td>46852</td>\n",
              "      <td>0.353562</td>\n",
              "      <td>0</td>\n",
              "      <td>38666.693932</td>\n",
              "      <td>4</td>\n",
              "      <td>0</td>\n",
              "      <td>0.0</td>\n",
              "    </tr>\n",
              "  </tbody>\n",
              "</table>\n",
              "<p>5 rows × 26 columns</p>\n",
              "</div>\n",
              "    <div class=\"colab-df-buttons\">\n",
              "\n",
              "  <div class=\"colab-df-container\">\n",
              "    <button class=\"colab-df-convert\" onclick=\"convertToInteractive('df-2c83cfd0-dc8d-4a84-b8f4-b898b58b88e3')\"\n",
              "            title=\"Convert this dataframe to an interactive table.\"\n",
              "            style=\"display:none;\">\n",
              "\n",
              "  <svg xmlns=\"http://www.w3.org/2000/svg\" height=\"24px\" viewBox=\"0 -960 960 960\">\n",
              "    <path d=\"M120-120v-720h720v720H120Zm60-500h600v-160H180v160Zm220 220h160v-160H400v160Zm0 220h160v-160H400v160ZM180-400h160v-160H180v160Zm440 0h160v-160H620v160ZM180-180h160v-160H180v160Zm440 0h160v-160H620v160Z\"/>\n",
              "  </svg>\n",
              "    </button>\n",
              "\n",
              "  <style>\n",
              "    .colab-df-container {\n",
              "      display:flex;\n",
              "      gap: 12px;\n",
              "    }\n",
              "\n",
              "    .colab-df-convert {\n",
              "      background-color: #E8F0FE;\n",
              "      border: none;\n",
              "      border-radius: 50%;\n",
              "      cursor: pointer;\n",
              "      display: none;\n",
              "      fill: #1967D2;\n",
              "      height: 32px;\n",
              "      padding: 0 0 0 0;\n",
              "      width: 32px;\n",
              "    }\n",
              "\n",
              "    .colab-df-convert:hover {\n",
              "      background-color: #E2EBFA;\n",
              "      box-shadow: 0px 1px 2px rgba(60, 64, 67, 0.3), 0px 1px 3px 1px rgba(60, 64, 67, 0.15);\n",
              "      fill: #174EA6;\n",
              "    }\n",
              "\n",
              "    .colab-df-buttons div {\n",
              "      margin-bottom: 4px;\n",
              "    }\n",
              "\n",
              "    [theme=dark] .colab-df-convert {\n",
              "      background-color: #3B4455;\n",
              "      fill: #D2E3FC;\n",
              "    }\n",
              "\n",
              "    [theme=dark] .colab-df-convert:hover {\n",
              "      background-color: #434B5C;\n",
              "      box-shadow: 0px 1px 3px 1px rgba(0, 0, 0, 0.15);\n",
              "      filter: drop-shadow(0px 1px 2px rgba(0, 0, 0, 0.3));\n",
              "      fill: #FFFFFF;\n",
              "    }\n",
              "  </style>\n",
              "\n",
              "    <script>\n",
              "      const buttonEl =\n",
              "        document.querySelector('#df-2c83cfd0-dc8d-4a84-b8f4-b898b58b88e3 button.colab-df-convert');\n",
              "      buttonEl.style.display =\n",
              "        google.colab.kernel.accessAllowed ? 'block' : 'none';\n",
              "\n",
              "      async function convertToInteractive(key) {\n",
              "        const element = document.querySelector('#df-2c83cfd0-dc8d-4a84-b8f4-b898b58b88e3');\n",
              "        const dataTable =\n",
              "          await google.colab.kernel.invokeFunction('convertToInteractive',\n",
              "                                                    [key], {});\n",
              "        if (!dataTable) return;\n",
              "\n",
              "        const docLinkHtml = 'Like what you see? Visit the ' +\n",
              "          '<a target=\"_blank\" href=https://colab.research.google.com/notebooks/data_table.ipynb>data table notebook</a>'\n",
              "          + ' to learn more about interactive tables.';\n",
              "        element.innerHTML = '';\n",
              "        dataTable['output_type'] = 'display_data';\n",
              "        await google.colab.output.renderOutput(dataTable, element);\n",
              "        const docLink = document.createElement('div');\n",
              "        docLink.innerHTML = docLinkHtml;\n",
              "        element.appendChild(docLink);\n",
              "      }\n",
              "    </script>\n",
              "  </div>\n",
              "\n",
              "\n",
              "<div id=\"df-83739e56-2e3a-4f7f-89f7-2bdfddb1182e\">\n",
              "  <button class=\"colab-df-quickchart\" onclick=\"quickchart('df-83739e56-2e3a-4f7f-89f7-2bdfddb1182e')\"\n",
              "            title=\"Suggest charts\"\n",
              "            style=\"display:none;\">\n",
              "\n",
              "<svg xmlns=\"http://www.w3.org/2000/svg\" height=\"24px\"viewBox=\"0 0 24 24\"\n",
              "     width=\"24px\">\n",
              "    <g>\n",
              "        <path d=\"M19 3H5c-1.1 0-2 .9-2 2v14c0 1.1.9 2 2 2h14c1.1 0 2-.9 2-2V5c0-1.1-.9-2-2-2zM9 17H7v-7h2v7zm4 0h-2V7h2v10zm4 0h-2v-4h2v4z\"/>\n",
              "    </g>\n",
              "</svg>\n",
              "  </button>\n",
              "\n",
              "<style>\n",
              "  .colab-df-quickchart {\n",
              "      --bg-color: #E8F0FE;\n",
              "      --fill-color: #1967D2;\n",
              "      --hover-bg-color: #E2EBFA;\n",
              "      --hover-fill-color: #174EA6;\n",
              "      --disabled-fill-color: #AAA;\n",
              "      --disabled-bg-color: #DDD;\n",
              "  }\n",
              "\n",
              "  [theme=dark] .colab-df-quickchart {\n",
              "      --bg-color: #3B4455;\n",
              "      --fill-color: #D2E3FC;\n",
              "      --hover-bg-color: #434B5C;\n",
              "      --hover-fill-color: #FFFFFF;\n",
              "      --disabled-bg-color: #3B4455;\n",
              "      --disabled-fill-color: #666;\n",
              "  }\n",
              "\n",
              "  .colab-df-quickchart {\n",
              "    background-color: var(--bg-color);\n",
              "    border: none;\n",
              "    border-radius: 50%;\n",
              "    cursor: pointer;\n",
              "    display: none;\n",
              "    fill: var(--fill-color);\n",
              "    height: 32px;\n",
              "    padding: 0;\n",
              "    width: 32px;\n",
              "  }\n",
              "\n",
              "  .colab-df-quickchart:hover {\n",
              "    background-color: var(--hover-bg-color);\n",
              "    box-shadow: 0 1px 2px rgba(60, 64, 67, 0.3), 0 1px 3px 1px rgba(60, 64, 67, 0.15);\n",
              "    fill: var(--button-hover-fill-color);\n",
              "  }\n",
              "\n",
              "  .colab-df-quickchart-complete:disabled,\n",
              "  .colab-df-quickchart-complete:disabled:hover {\n",
              "    background-color: var(--disabled-bg-color);\n",
              "    fill: var(--disabled-fill-color);\n",
              "    box-shadow: none;\n",
              "  }\n",
              "\n",
              "  .colab-df-spinner {\n",
              "    border: 2px solid var(--fill-color);\n",
              "    border-color: transparent;\n",
              "    border-bottom-color: var(--fill-color);\n",
              "    animation:\n",
              "      spin 1s steps(1) infinite;\n",
              "  }\n",
              "\n",
              "  @keyframes spin {\n",
              "    0% {\n",
              "      border-color: transparent;\n",
              "      border-bottom-color: var(--fill-color);\n",
              "      border-left-color: var(--fill-color);\n",
              "    }\n",
              "    20% {\n",
              "      border-color: transparent;\n",
              "      border-left-color: var(--fill-color);\n",
              "      border-top-color: var(--fill-color);\n",
              "    }\n",
              "    30% {\n",
              "      border-color: transparent;\n",
              "      border-left-color: var(--fill-color);\n",
              "      border-top-color: var(--fill-color);\n",
              "      border-right-color: var(--fill-color);\n",
              "    }\n",
              "    40% {\n",
              "      border-color: transparent;\n",
              "      border-right-color: var(--fill-color);\n",
              "      border-top-color: var(--fill-color);\n",
              "    }\n",
              "    60% {\n",
              "      border-color: transparent;\n",
              "      border-right-color: var(--fill-color);\n",
              "    }\n",
              "    80% {\n",
              "      border-color: transparent;\n",
              "      border-right-color: var(--fill-color);\n",
              "      border-bottom-color: var(--fill-color);\n",
              "    }\n",
              "    90% {\n",
              "      border-color: transparent;\n",
              "      border-bottom-color: var(--fill-color);\n",
              "    }\n",
              "  }\n",
              "</style>\n",
              "\n",
              "  <script>\n",
              "    async function quickchart(key) {\n",
              "      const quickchartButtonEl =\n",
              "        document.querySelector('#' + key + ' button');\n",
              "      quickchartButtonEl.disabled = true;  // To prevent multiple clicks.\n",
              "      quickchartButtonEl.classList.add('colab-df-spinner');\n",
              "      try {\n",
              "        const charts = await google.colab.kernel.invokeFunction(\n",
              "            'suggestCharts', [key], {});\n",
              "      } catch (error) {\n",
              "        console.error('Error during call to suggestCharts:', error);\n",
              "      }\n",
              "      quickchartButtonEl.classList.remove('colab-df-spinner');\n",
              "      quickchartButtonEl.classList.add('colab-df-quickchart-complete');\n",
              "    }\n",
              "    (() => {\n",
              "      let quickchartButtonEl =\n",
              "        document.querySelector('#df-83739e56-2e3a-4f7f-89f7-2bdfddb1182e button');\n",
              "      quickchartButtonEl.style.display =\n",
              "        google.colab.kernel.accessAllowed ? 'block' : 'none';\n",
              "    })();\n",
              "  </script>\n",
              "</div>\n",
              "\n",
              "    </div>\n",
              "  </div>\n"
            ],
            "application/vnd.google.colaboratory.intrinsic+json": {
              "type": "dataframe",
              "variable_name": "df"
            }
          },
          "metadata": {},
          "execution_count": 36
        }
      ]
    },
    {
      "cell_type": "code",
      "source": [
        "df.info()"
      ],
      "metadata": {
        "colab": {
          "base_uri": "https://localhost:8080/"
        },
        "id": "z-qYXxJym32m",
        "outputId": "a81bc03e-b6ce-4ca0-b844-e5f873697b2e"
      },
      "execution_count": null,
      "outputs": [
        {
          "output_type": "stream",
          "name": "stdout",
          "text": [
            "<class 'pandas.core.frame.DataFrame'>\n",
            "RangeIndex: 10000 entries, 0 to 9999\n",
            "Data columns (total 26 columns):\n",
            " #   Column                            Non-Null Count  Dtype  \n",
            "---  ------                            --------------  -----  \n",
            " 0   PolicyholderNumber                10000 non-null  object \n",
            " 1   FirstPartyVehicleNumber           10000 non-null  object \n",
            " 2   PolicyholderOccupation            10000 non-null  object \n",
            " 3   FirstPolicySubscriptionDate       10000 non-null  object \n",
            " 4   FirstPartyVehicleType             10000 non-null  object \n",
            " 5   PolicyholderPostCode              10000 non-null  int64  \n",
            " 6   PolicyWasSubscribedOnInternet     10000 non-null  int64  \n",
            " 7   NumberOfPoliciesOfPolicyholder    10000 non-null  int64  \n",
            " 8   FpVehicleAgeMonths                10000 non-null  int64  \n",
            " 9   PolicyHolderAge                   10000 non-null  int64  \n",
            " 10  FirstPartyLiability               10000 non-null  float64\n",
            " 11  ReferenceId                       10000 non-null  object \n",
            " 12  ThirdPartyVehicleNumber           10000 non-null  object \n",
            " 13  InsurerNotes                      10000 non-null  object \n",
            " 14  LossDate                          10000 non-null  object \n",
            " 15  ClaimCause                        10000 non-null  object \n",
            " 16  ClaimInvolvedCovers               10000 non-null  object \n",
            " 17  DamageImportance                  10000 non-null  int64  \n",
            " 18  ConnectionBetweenParties          10000 non-null  object \n",
            " 19  LossPostCode                      10000 non-null  int64  \n",
            " 20  EasinessToStage                   10000 non-null  float64\n",
            " 21  ClaimWithoutIdentifiedThirdParty  10000 non-null  int64  \n",
            " 22  ClaimAmount                       10000 non-null  float64\n",
            " 23  LossHour                          10000 non-null  int64  \n",
            " 24  NumberOfBodilyInjuries            10000 non-null  int64  \n",
            " 25  Fraud                             10000 non-null  float64\n",
            "dtypes: float64(4), int64(10), object(12)\n",
            "memory usage: 2.0+ MB\n"
          ]
        }
      ]
    },
    {
      "cell_type": "markdown",
      "source": [
        "**Visualizing Class Distrubition Using Histogram** **bold text**"
      ],
      "metadata": {
        "id": "VCOohIhk1XvC"
      }
    },
    {
      "cell_type": "code",
      "source": [
        "plt.figure(figsize=(8, 5))\n",
        "sns.histplot(df[\"Fraud\"], bins=2, kde=False, discrete=True, color=\"blue\")\n",
        "plt.xticks([0, 1], [\"Non-Fraud (0)\", \"Fraud (1)\"])\n",
        "plt.xlabel(\"Fraud Class\")\n",
        "plt.ylabel(\"Count\")\n",
        "plt.title(\"Class Distribution: Fraud vs Non Fraud\")\n",
        "plt.show()"
      ],
      "metadata": {
        "colab": {
          "base_uri": "https://localhost:8080/",
          "height": 487
        },
        "id": "_QSMlstcuINN",
        "outputId": "22d2cd03-635c-4d9c-9dc6-45c0bc4bcd52"
      },
      "execution_count": null,
      "outputs": [
        {
          "output_type": "display_data",
          "data": {
            "text/plain": [
              "<Figure size 800x500 with 1 Axes>"
            ],
            "image/png": "[encoded data removed]"
          },
          "metadata": {}
        }
      ]
    },
    {
      "cell_type": "markdown",
      "source": [
        "Dropping Irrelevant Columns"
      ],
      "metadata": {
        "id": "BEJ5HSHH2_n_"
      }
    },
    {
      "cell_type": "code",
      "source": [
        "drop_cols = [\"PolicyholderNumber\", \"FirstPartyVehicleNumber\", \"ReferenceId\", \"InsurerNotes\", \"LossDate\", \"FirstPolicySubscriptionDate\"]\n",
        "df=df.drop(columns=drop_cols)"
      ],
      "metadata": {
        "id": "IUAGFpok2304"
      },
      "execution_count": null,
      "outputs": []
    },
    {
      "cell_type": "markdown",
      "source": [],
      "metadata": {
        "id": "C7Glmj8v23YF"
      }
    },
    {
      "cell_type": "markdown",
      "source": [
        "**Enconding Categorical Variables & Handling Class Imbalance**"
      ],
      "metadata": {
        "id": "c8HBKscqwl2u"
      }
    },
    {
      "cell_type": "code",
      "source": [
        "# Encode categorical variables (Used AI)\n",
        "categorical_cols = df.select_dtypes(include=[\"object\"]).columns\n",
        "for col in categorical_cols:\n",
        "    df[col] = LabelEncoder().fit_transform(df[col])\n",
        "\n",
        "# Split data into features and target\n",
        "X = df.drop(columns=[\"Fraud\"])\n",
        "y = df[\"Fraud\"]\n",
        "\n",
        "# Train-test split\n",
        "X_train, X_test, y_train, y_test = train_test_split(X, y, test_size=0.2, random_state=42, stratify=y)\n",
        "\n",
        "# Handle class imbalance using SMOTE\n",
        "X_train, y_train = SMOTE(random_state=42).fit_resample(X_train, y_train)\n"
      ],
      "metadata": {
        "id": "K_Vdiwvqx7_o"
      },
      "execution_count": null,
      "outputs": []
    },
    {
      "cell_type": "markdown",
      "source": [
        "**Logistic Regression Model**"
      ],
      "metadata": {
        "id": "0dG5qJlT7RRh"
      }
    },
    {
      "cell_type": "code",
      "source": [
        "# Scale features to improve model convergence\n",
        "scaler = StandardScaler()\n",
        "X_train = scaler.fit_transform(X_train)\n",
        "X_test = scaler.transform(X_test)\n",
        "\n",
        "# Train logistic regression model\n",
        "model = LogisticRegression(class_weight=\"balanced\", max_iter=1000, solver=\"saga\") #Used AI\n",
        "model.fit(X_train, y_train)\n",
        "\n",
        "# Make predictions\n",
        "y_pred = model.predict(X_test)\n",
        "y_prob = model.predict_proba(X_test)[:, 1]\n",
        "\n",
        "\n"
      ],
      "metadata": {
        "id": "vjdL20cr7QJv"
      },
      "execution_count": null,
      "outputs": []
    },
    {
      "cell_type": "markdown",
      "source": [
        "**Model Evaluation**"
      ],
      "metadata": {
        "id": "vEbUnYlX7Y6n"
      }
    },
    {
      "cell_type": "code",
      "source": [
        "# Evaluate the model\n",
        "print(\"Model Evaluation:\")\n",
        "print(f\"Accuracy: {accuracy_score(y_test, y_pred):.4f}\")\n",
        "print(f\"Precision: {precision_score(y_test, y_pred):.4f}\")\n",
        "print(f\"Recall: {recall_score(y_test, y_pred):.4f}\")\n",
        "print(f\"F1 Score: {f1_score(y_test, y_pred):.4f}\")\n",
        "print(f\"AUC-ROC: {roc_auc_score(y_test, y_prob):.4f}\")\n",
        "print(\"Confusion Matrix:\")\n",
        "print(confusion_matrix(y_test, y_pred))"
      ],
      "metadata": {
        "colab": {
          "base_uri": "https://localhost:8080/"
        },
        "id": "sHEzVJq37YLt",
        "outputId": "a72b3207-95d8-4f30-8e23-36c80718462f"
      },
      "execution_count": null,
      "outputs": [
        {
          "output_type": "stream",
          "name": "stdout",
          "text": [
            "Model Evaluation:\n",
            "Accuracy: 0.6800\n",
            "Precision: 0.0079\n",
            "Recall: 0.2500\n",
            "F1 Score: 0.0154\n",
            "AUC-ROC: 0.4033\n",
            "Confusion Matrix:\n",
            "[[1355  625]\n",
            " [  15    5]]\n"
          ]
        }
      ]
    },
    {
      "cell_type": "markdown",
      "source": [
        "**Confusion Matrix**"
      ],
      "metadata": {
        "id": "mLID38OI67Fw"
      }
    },
    {
      "cell_type": "code",
      "source": [
        "# Confusion Matrix visualization\n",
        "plt.figure(figsize=(6, 4))\n",
        "sns.heatmap(conf_matrix, annot=True, fmt='d', cmap='Blues', xticklabels=['Non-Fraud', 'Fraud'], yticklabels=['Non-Fraud', 'Fraud'])\n",
        "plt.xlabel(\"Predicted\")\n",
        "plt.ylabel(\"Actual\")\n",
        "plt.title(\"Confusion Matrix\")\n",
        "plt.show()"
      ],
      "metadata": {
        "colab": {
          "base_uri": "https://localhost:8080/",
          "height": 410
        },
        "id": "zx-fVOUH6fa2",
        "outputId": "8d2d15e3-b58f-4741-a99b-6f1b7415ec5f"
      },
      "execution_count": null,
      "outputs": [
        {
          "output_type": "display_data",
          "data": {
            "text/plain": [
              "<Figure size 600x400 with 2 Axes>"
            ],
            "image/png": "[encoded data removed]"
          },
          "metadata": {}
        }
      ]
    },
    {
      "cell_type": "markdown",
      "source": [
        "**Insights & Recommendations:\n",
        "Discuss model performance, strengths, and ways to improve fraud detection**"
      ],
      "metadata": {
        "id": "MvMlvPNB8SI3"
      }
    },
    {
      "cell_type": "code",
      "source": [],
      "metadata": {
        "id": "E4Hd1NfP95MT"
      },
      "execution_count": null,
      "outputs": []
    }
  ]
}