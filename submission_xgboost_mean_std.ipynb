{
  "nbformat": 4,
  "nbformat_minor": 0,
  "metadata": {
    "colab": {
      "provenance": []
    },
    "kernelspec": {
      "name": "python3",
      "display_name": "Python 3"
    },
    "language_info": {
      "name": "python"
    }
  },
  "cells": [
    {
      "cell_type": "code",
      "execution_count": 9,
      "metadata": {
        "colab": {
          "base_uri": "https://localhost:8080/",
          "height": 431
        },
        "id": "DqVD4pa8jflI",
        "outputId": "ba9fc4b2-69d5-4bb4-b5e5-5fb9563a40e7"
      },
      "outputs": [
        {
          "output_type": "stream",
          "name": "stderr",
          "text": [
            "/usr/local/lib/python3.11/dist-packages/xgboost/core.py:158: UserWarning: [06:49:00] WARNING: /workspace/src/learner.cc:740: \n",
            "Parameters: { \"use_label_encoder\" } are not used.\n",
            "\n",
            "  warnings.warn(smsg, UserWarning)\n"
          ]
        },
        {
          "output_type": "stream",
          "name": "stdout",
          "text": [
            "submission_xgboost_mean_std: Precision=0.7500, Recall=0.0309, AUC-ROC=0.9556\n"
          ]
        },
        {
          "output_type": "error",
          "ename": "NameError",
          "evalue": "name 'test_proba' is not defined",
          "traceback": [
            "\u001b[0;31m---------------------------------------------------------------------------\u001b[0m",
            "\u001b[0;31mNameError\u001b[0m                                 Traceback (most recent call last)",
            "\u001b[0;32m<ipython-input-9-d0d11c3544d1>\u001b[0m in \u001b[0;36m<cell line: 0>\u001b[0;34m()\u001b[0m\n\u001b[1;32m     67\u001b[0m \u001b[0;31m# Run XGBoost (mean imputation, StandardScaler)\u001b[0m\u001b[0;34m\u001b[0m\u001b[0;34m\u001b[0m\u001b[0m\n\u001b[1;32m     68\u001b[0m \u001b[0mX\u001b[0m\u001b[0;34m,\u001b[0m \u001b[0my\u001b[0m\u001b[0;34m,\u001b[0m \u001b[0mX_test\u001b[0m \u001b[0;34m=\u001b[0m \u001b[0mpreprocess\u001b[0m\u001b[0;34m(\u001b[0m\u001b[0mSimpleImputer\u001b[0m\u001b[0;34m(\u001b[0m\u001b[0mstrategy\u001b[0m\u001b[0;34m=\u001b[0m\u001b[0;34m'mean'\u001b[0m\u001b[0;34m)\u001b[0m\u001b[0;34m,\u001b[0m \u001b[0mStandardScaler\u001b[0m\u001b[0;34m(\u001b[0m\u001b[0;34m)\u001b[0m\u001b[0;34m)\u001b[0m\u001b[0;34m\u001b[0m\u001b[0;34m\u001b[0m\u001b[0m\n\u001b[0;32m---> 69\u001b[0;31m train_and_submit(\n\u001b[0m\u001b[1;32m     70\u001b[0m     xgb.XGBClassifier(\n\u001b[1;32m     71\u001b[0m         \u001b[0mn_estimators\u001b[0m\u001b[0;34m=\u001b[0m\u001b[0;36m200\u001b[0m\u001b[0;34m,\u001b[0m\u001b[0;34m\u001b[0m\u001b[0;34m\u001b[0m\u001b[0m\n",
            "\u001b[0;32m<ipython-input-9-d0d11c3544d1>\u001b[0m in \u001b[0;36mtrain_and_submit\u001b[0;34m(model, X, y, X_test, submission_name)\u001b[0m\n\u001b[1;32m     60\u001b[0m     \u001b[0msubmission\u001b[0m \u001b[0;34m=\u001b[0m \u001b[0msample_submission\u001b[0m\u001b[0;34m.\u001b[0m\u001b[0mcopy\u001b[0m\u001b[0;34m(\u001b[0m\u001b[0;34m)\u001b[0m\u001b[0;34m\u001b[0m\u001b[0;34m\u001b[0m\u001b[0m\n\u001b[1;32m     61\u001b[0m     \u001b[0msubmission\u001b[0m\u001b[0;34m[\u001b[0m\u001b[0;34m'Y'\u001b[0m\u001b[0;34m]\u001b[0m \u001b[0;34m=\u001b[0m \u001b[0mmodel\u001b[0m\u001b[0;34m.\u001b[0m\u001b[0mpredict_proba\u001b[0m\u001b[0;34m(\u001b[0m\u001b[0mX_test\u001b[0m\u001b[0;34m)\u001b[0m\u001b[0;34m[\u001b[0m\u001b[0;34m:\u001b[0m\u001b[0;34m,\u001b[0m \u001b[0;36m1\u001b[0m\u001b[0;34m]\u001b[0m\u001b[0;34m\u001b[0m\u001b[0;34m\u001b[0m\u001b[0m\n\u001b[0;32m---> 62\u001b[0;31m     \u001b[0msubmission\u001b[0m \u001b[0;34m=\u001b[0m \u001b[0mpd\u001b[0m\u001b[0;34m.\u001b[0m\u001b[0mDataFrame\u001b[0m\u001b[0;34m(\u001b[0m\u001b[0;34m{\u001b[0m\u001b[0;34m'ID'\u001b[0m\u001b[0;34m:\u001b[0m \u001b[0mtest_df\u001b[0m\u001b[0;34m[\u001b[0m\u001b[0;34m'ID'\u001b[0m\u001b[0;34m]\u001b[0m\u001b[0;34m,\u001b[0m \u001b[0;34m'Y'\u001b[0m\u001b[0;34m:\u001b[0m \u001b[0mtest_proba\u001b[0m\u001b[0;34m}\u001b[0m\u001b[0;34m)\u001b[0m\u001b[0;34m\u001b[0m\u001b[0;34m\u001b[0m\u001b[0m\n\u001b[0m\u001b[1;32m     63\u001b[0m     \u001b[0msubmission\u001b[0m\u001b[0;34m.\u001b[0m\u001b[0mto_csv\u001b[0m\u001b[0;34m(\u001b[0m\u001b[0;34mf'/content/{filename}.csv'\u001b[0m\u001b[0;34m,\u001b[0m \u001b[0mindex\u001b[0m\u001b[0;34m=\u001b[0m\u001b[0;32mFalse\u001b[0m\u001b[0;34m)\u001b[0m\u001b[0;34m\u001b[0m\u001b[0;34m\u001b[0m\u001b[0m\n\u001b[1;32m     64\u001b[0m     \u001b[0mprint\u001b[0m\u001b[0;34m(\u001b[0m\u001b[0;34mf'Saved: {submission_path}'\u001b[0m\u001b[0;34m)\u001b[0m\u001b[0;34m\u001b[0m\u001b[0;34m\u001b[0m\u001b[0m\n",
            "\u001b[0;31mNameError\u001b[0m: name 'test_proba' is not defined"
          ]
        }
      ],
      "source": [
        "# --- Data Loading and Preprocessing Utilities for Google Colab ---\n",
        "import pandas as pd\n",
        "from sklearn.impute import SimpleImputer\n",
        "from sklearn.preprocessing import StandardScaler\n",
        "from sklearn.model_selection import train_test_split\n",
        "from sklearn.metrics import precision_score, recall_score, roc_auc_score\n",
        "import xgboost as xgb\n",
        "\n",
        "\n",
        "\n",
        "# File paths (Update paths based on your Drive folder structure)\n",
        "train_path = '/content/fda_trainingset.csv'\n",
        "test_path = '/content/fda_testset.csv'\n",
        "sample_submission_path = '/content/sample_submission_FDA_file.csv'\n",
        "\n",
        "# Load datasets\n",
        "train_df = pd.read_csv(train_path)\n",
        "test_df = pd.read_csv(test_path)\n",
        "sample_submission = pd.read_csv(sample_submission_path)\n",
        "\n",
        "# Drop unnecessary columns\n",
        "cols_to_drop = [\n",
        "    'max_monthly_income', 'min_monthly_income', 'nomalized_income_std_dev',\n",
        "    'loan_default_probability', 'last_month_income', 'last_month_savings',\n",
        "    'predicted_next_month_income', 'predicted_next_month_savings',\n",
        "    'avg_quarterly_expenditure', 'financial_wellbeing_index'\n",
        "]\n",
        "\n",
        "def preprocess(imputer=None, scaler=None):\n",
        "    if imputer is None:\n",
        "        imputer = KNNImputer(n_neighbors=5)\n",
        "\n",
        "    # Auto-detect target column\n",
        "    target_col = 'Unnamed: 78' if 'Unnamed: 78' in train_df.columns else 'Y'\n",
        "\n",
        "    X = train_df.drop(columns=[target_col] + cols_to_drop)\n",
        "    y = train_df[target_col]\n",
        "    X_test = test_df[X.columns]  # Ensure matching features\n",
        "\n",
        "    # Apply imputer\n",
        "    X = pd.DataFrame(imputer.fit_transform(X), columns=X.columns)\n",
        "    X_test = pd.DataFrame(imputer.transform(X_test), columns=X.columns)\n",
        "\n",
        "    # Scale if needed\n",
        "    if scaler:\n",
        "        X = pd.DataFrame(scaler.fit_transform(X), columns=X.columns)\n",
        "        X_test = pd.DataFrame(scaler.transform(X_test), columns=X.columns)\n",
        "\n",
        "    return X, y, X_test\n",
        "\n",
        "\n",
        "def train_and_submit(model, X, y, X_test, submission_name):\n",
        "    X_train, X_val, y_train, y_val = train_test_split(X, y, test_size=0.2, random_state=42)\n",
        "    model.fit(X_train, y_train)\n",
        "    y_proba = model.predict_proba(X_val)[:, 1]\n",
        "    precision = precision_score(y_val, (y_proba > 0.5).astype(int))\n",
        "    recall = recall_score(y_val, (y_proba > 0.5).astype(int))\n",
        "    auc = roc_auc_score(y_val, y_proba)\n",
        "    print(f'{submission_name}: Precision={precision:.4f}, Recall={recall:.4f}, AUC-ROC={auc:.4f}')\n",
        "    submission = sample_submission.copy()\n",
        "    submission['Y'] = model.predict_proba(X_test)[:, 1]\n",
        "    submission = pd.DataFrame({'ID': test_df['ID'], 'Y': test_proba})\n",
        "    submission.to_csv(f'/content/{filename}.csv', index=False)\n",
        "    print(f'Saved: {submission_path}')\n",
        "    return precision, recall, auc\n",
        "\n",
        "# Run XGBoost (mean imputation, StandardScaler)\n",
        "X, y, X_test = preprocess(SimpleImputer(strategy='mean'), StandardScaler())\n",
        "train_and_submit(\n",
        "    xgb.XGBClassifier(\n",
        "        n_estimators=200,\n",
        "        max_depth=7,\n",
        "        learning_rate=0.05,\n",
        "        random_state=42,\n",
        "        use_label_encoder=False,\n",
        "        eval_metric='logloss'\n",
        "    ),\n",
        "    X, y, X_test,\n",
        "    'submission_xgboost_mean_std'\n",
        ")"
      ]
    }
  ]
}